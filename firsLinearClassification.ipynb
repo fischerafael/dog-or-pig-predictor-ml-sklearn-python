{
  "nbformat": 4,
  "nbformat_minor": 0,
  "metadata": {
    "colab": {
      "name": "firsLinearClassification.ipynb",
      "provenance": []
    },
    "kernelspec": {
      "name": "python3",
      "display_name": "Python 3"
    },
    "language_info": {
      "name": "python"
    }
  },
  "cells": [
    {
      "cell_type": "markdown",
      "source": [
        "Defines Trainnig data"
      ],
      "metadata": {
        "id": "aS9Ez1GQ4Zrw"
      }
    },
    {
      "cell_type": "code",
      "source": [
        "pig1 = [0,1,0]\n",
        "pig2 = [0,1,1]\n",
        "pig3 = [1,1,0]"
      ],
      "metadata": {
        "id": "DeiuuAI63Jf3"
      },
      "execution_count": null,
      "outputs": []
    },
    {
      "cell_type": "code",
      "source": [
        "dog1 = [0, 1, 1]\n",
        "dog2 = [1,0,1]\n",
        "dog3 = [1,1,1]"
      ],
      "metadata": {
        "id": "lwLjc1RR3avv"
      },
      "execution_count": null,
      "outputs": []
    },
    {
      "cell_type": "markdown",
      "source": [
        ""
      ],
      "metadata": {
        "id": "OAUiVvmB4eJY"
      }
    },
    {
      "cell_type": "code",
      "source": [
        "data = [pig1, pig2, pig3, dog1, dog2, dog3]\n",
        "classes = [1,1,1,0,0,0]"
      ],
      "metadata": {
        "id": "pQFRHrO73h3Q"
      },
      "execution_count": null,
      "outputs": []
    },
    {
      "cell_type": "markdown",
      "source": [
        "Import SKLearn, Assign trainning data and results to the model"
      ],
      "metadata": {
        "id": "90zcIgzp4fco"
      }
    },
    {
      "cell_type": "code",
      "execution_count": null,
      "metadata": {
        "id": "gcsJkygL23Za"
      },
      "outputs": [],
      "source": [
        "from sklearn.svm import LinearSVC"
      ]
    },
    {
      "cell_type": "code",
      "source": [
        "model = LinearSVC()"
      ],
      "metadata": {
        "id": "XyUvymew3Bn1"
      },
      "execution_count": null,
      "outputs": []
    },
    {
      "cell_type": "code",
      "source": [
        "model.fit(data, classes)"
      ],
      "metadata": {
        "colab": {
          "base_uri": "https://localhost:8080/"
        },
        "id": "J2EHhWKH3noP",
        "outputId": "14363353-ccaa-46b5-bc66-f2a93027ae69"
      },
      "execution_count": null,
      "outputs": [
        {
          "output_type": "execute_result",
          "data": {
            "text/plain": [
              "LinearSVC()"
            ]
          },
          "metadata": {},
          "execution_count": 91
        }
      ]
    },
    {
      "cell_type": "markdown",
      "source": [
        "Data of a unknow animal to be predicted"
      ],
      "metadata": {
        "id": "C2FRRlnL479d"
      }
    },
    {
      "cell_type": "code",
      "source": [
        "to_predict = [0,1,0]"
      ],
      "metadata": {
        "id": "_ZWsgtV332Wq"
      },
      "execution_count": null,
      "outputs": []
    },
    {
      "cell_type": "code",
      "source": [
        "model.predict([to_predict])"
      ],
      "metadata": {
        "colab": {
          "base_uri": "https://localhost:8080/"
        },
        "id": "GZ46a8Hy4CTp",
        "outputId": "a2487c66-c584-452a-cbb2-04188129ebb2"
      },
      "execution_count": null,
      "outputs": [
        {
          "output_type": "execute_result",
          "data": {
            "text/plain": [
              "array([1])"
            ]
          },
          "metadata": {},
          "execution_count": 93
        }
      ]
    },
    {
      "cell_type": "markdown",
      "source": [
        "Prediction Result"
      ],
      "metadata": {
        "id": "1CjsJkXu5CDG"
      }
    },
    {
      "cell_type": "code",
      "source": [
        "misterious1 = [0,1,0] # pig 1\n",
        "misterious2 = [1,0,1] # dog 0\n",
        "misterious3 = [1,1,1] # dog 0\n",
        "\n",
        "test_data = [misterious1, misterious2, misterious3]"
      ],
      "metadata": {
        "id": "4PuPPqBZ5GAn"
      },
      "execution_count": null,
      "outputs": []
    },
    {
      "cell_type": "code",
      "source": [
        "predictions = model.predict(test_data)"
      ],
      "metadata": {
        "id": "qZBv-hi95TKZ"
      },
      "execution_count": null,
      "outputs": []
    },
    {
      "cell_type": "markdown",
      "source": [
        "The known result of misterious"
      ],
      "metadata": {
        "id": "-zJuGn0x6BIg"
      }
    },
    {
      "cell_type": "code",
      "source": [
        "test_results = [1,0,0]"
      ],
      "metadata": {
        "id": "c76vTWQU55ja"
      },
      "execution_count": null,
      "outputs": []
    },
    {
      "cell_type": "markdown",
      "source": [
        "Work on % accuracy"
      ],
      "metadata": {
        "id": "ZjlC4u6t6VaW"
      }
    },
    {
      "cell_type": "code",
      "source": [
        "accuracy = predictions == test_results\n",
        "print(accuracy)"
      ],
      "metadata": {
        "colab": {
          "base_uri": "https://localhost:8080/"
        },
        "id": "UwwURQX35_rQ",
        "outputId": "5377865f-89a6-4fd1-88b9-6c03793902ad"
      },
      "execution_count": null,
      "outputs": [
        {
          "output_type": "stream",
          "name": "stdout",
          "text": [
            "[ True  True  True]\n"
          ]
        }
      ]
    },
    {
      "cell_type": "markdown",
      "source": [
        "Sum how many results were predicted correctly"
      ],
      "metadata": {
        "id": "PVMDpttT6ihv"
      }
    },
    {
      "cell_type": "code",
      "source": [
        "correct_predictions_sum = accuracy.sum()\n",
        "print(correct_predictions_sum)\n",
        "\n",
        "total_test_entries = len(test_data)\n",
        "print(total_test_entries)\n",
        "\n",
        "accuracy = correct_predictions_sum / total_test_entries * 100\n",
        "print('Acc rate is : ', accuracy, ' %')"
      ],
      "metadata": {
        "colab": {
          "base_uri": "https://localhost:8080/"
        },
        "id": "ufFoiDwe6Yf3",
        "outputId": "4fb853c9-dcec-4012-ac31-9941f984e9aa"
      },
      "execution_count": null,
      "outputs": [
        {
          "output_type": "stream",
          "name": "stdout",
          "text": [
            "3\n",
            "3\n",
            "Acc rate is :  100.0  %\n"
          ]
        }
      ]
    },
    {
      "cell_type": "code",
      "source": [
        "from sklearn.metrics import accuracy_score\n",
        "\n",
        "acc_sklearn = accuracy_score(test_results, predictions)\n",
        "print('SkLearn Acc rate is : ', acc_sklearn * 100, ' %')"
      ],
      "metadata": {
        "colab": {
          "base_uri": "https://localhost:8080/"
        },
        "id": "goDULnKX7qPI",
        "outputId": "e0798fd9-ebf9-418e-e29c-ed750b5b2189"
      },
      "execution_count": null,
      "outputs": [
        {
          "output_type": "stream",
          "name": "stdout",
          "text": [
            "SkLearn Acc rate is :  100.0  %\n"
          ]
        }
      ]
    }
  ]
}